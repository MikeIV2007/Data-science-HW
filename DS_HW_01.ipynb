{
  "nbformat": 4,
  "nbformat_minor": 0,
  "metadata": {
    "colab": {
      "provenance": [],
      "authorship_tag": "ABX9TyOcGLbPevCOB6bwRuglChxK",
      "include_colab_link": true
    },
    "kernelspec": {
      "name": "python3",
      "display_name": "Python 3"
    },
    "language_info": {
      "name": "python"
    }
  },
  "cells": [
    {
      "cell_type": "markdown",
      "metadata": {
        "id": "view-in-github",
        "colab_type": "text"
      },
      "source": [
        "<a href=\"https://colab.research.google.com/github/MikeIV2007/Data-science-HW/blob/main/DS_HW_01.ipynb\" target=\"_parent\"><img src=\"https://colab.research.google.com/assets/colab-badge.svg\" alt=\"Open In Colab\"/></a>"
      ]
    },
    {
      "cell_type": "code",
      "execution_count": 2,
      "metadata": {
        "id": "Uv45-WCNpNm9"
      },
      "outputs": [],
      "source": [
        "import numpy as np"
      ]
    },
    {
      "cell_type": "code",
      "source": [
        "# 1.Створіть одновимірний масив (вектор) з першими 10-ма натуральними числами та виведіть його значення.\n",
        "\n",
        "a = np.array([1, 2, 3, 4, 5, 6, 7, 8, 9, 10, 11])\n",
        "print (a)"
      ],
      "metadata": {
        "colab": {
          "base_uri": "https://localhost:8080/"
        },
        "id": "ZocOY7cLphdZ",
        "outputId": "e9d43dab-4387-43d6-f338-df5d7a609c7c"
      },
      "execution_count": 2,
      "outputs": [
        {
          "output_type": "stream",
          "name": "stdout",
          "text": [
            "[ 1  2  3  4  5  6  7  8  9 10 11]\n"
          ]
        }
      ]
    },
    {
      "cell_type": "code",
      "source": [
        "# 2.Створіть двовимірний масив (матрицю) розміром 3x3, заповніть його нулями та виведіть його значення.\n",
        "\n",
        "zero = np.zeros([3,3])\n",
        "print(zero)"
      ],
      "metadata": {
        "colab": {
          "base_uri": "https://localhost:8080/"
        },
        "id": "YajLJSsoqVqN",
        "outputId": "33f4526a-8dfc-48ce-9038-76df98435acd"
      },
      "execution_count": 4,
      "outputs": [
        {
          "output_type": "stream",
          "name": "stdout",
          "text": [
            "[[0. 0. 0.]\n",
            " [0. 0. 0.]\n",
            " [0. 0. 0.]]\n"
          ]
        }
      ]
    },
    {
      "cell_type": "code",
      "source": [
        "# 3.Створіть масив розміром 5x5, заповніть його випадковими цілими числами в діапазоні від 1 до 10 та виведіть його значення.\n",
        "\n",
        "random_int = np.random.randint(1, 11, size=(5, 5))\n",
        "print(random_int)"
      ],
      "metadata": {
        "colab": {
          "base_uri": "https://localhost:8080/"
        },
        "id": "HfjhxG6prYk9",
        "outputId": "7b358767-cac1-4e97-bd11-231560036a28"
      },
      "execution_count": 5,
      "outputs": [
        {
          "output_type": "stream",
          "name": "stdout",
          "text": [
            "[[ 9 10  8  8  2]\n",
            " [ 7  7  8  7  7]\n",
            " [ 9  5  7  6  6]\n",
            " [ 7  6  6  9  3]\n",
            " [ 5  4  1  5  2]]\n"
          ]
        }
      ]
    },
    {
      "cell_type": "code",
      "source": [
        "# 4.Створіть масив розміром 4x4, заповніть його випадковими дійсними числами в діапазоні від 0 до 1 та виведіть його значення.\n",
        "\n",
        "random_float = np.random.rand(4, 4)\n",
        "print(random_float)"
      ],
      "metadata": {
        "colab": {
          "base_uri": "https://localhost:8080/"
        },
        "id": "sg_0f9UoryYP",
        "outputId": "7b3a8b8c-8e79-4515-87eb-0ddd10211c80"
      },
      "execution_count": 7,
      "outputs": [
        {
          "output_type": "stream",
          "name": "stdout",
          "text": [
            "[[0.64223836 0.22676712 0.6935949  0.69516895]\n",
            " [0.70131414 0.74335223 0.77980673 0.41405372]\n",
            " [0.13862514 0.72637352 0.93487962 0.28956312]\n",
            " [0.7831278  0.3167628  0.98517909 0.55896467]]\n"
          ]
        }
      ]
    },
    {
      "cell_type": "code",
      "source": [
        "# 5.Створіть два одновимірних масиви розміром 5, заповніть їх випадковими цілими числами в діапазоні від 1 до 10 та виконайте на них поелементні операції додавання, віднімання та множення\n",
        "\n",
        "b=np.random.randint(1,11, size=5)\n",
        "print(b)\n",
        "c=np.random.randint(1,11, size=5)\n",
        "print(c)\n",
        "\n",
        "sum = b+c\n",
        "print (sum)\n",
        "\n",
        "sub = b-c\n",
        "print (sub)\n",
        "\n",
        "mult = b*c\n",
        "print(mult)"
      ],
      "metadata": {
        "colab": {
          "base_uri": "https://localhost:8080/"
        },
        "id": "yGbJARLdt-G1",
        "outputId": "5ffcdd90-b185-43b6-c35f-60943270a6c0"
      },
      "execution_count": 19,
      "outputs": [
        {
          "output_type": "stream",
          "name": "stdout",
          "text": [
            "[8 8 5 7 1]\n",
            "[6 8 6 5 2]\n",
            "[14 16 11 12  3]\n",
            "[ 2  0 -1  2 -1]\n",
            "[48 64 30 35  2]\n"
          ]
        }
      ]
    },
    {
      "cell_type": "code",
      "source": [
        "# 6.Створіть два вектори розміром 7, заповніть довільними числами та знайдіть їх скалярний добуток.\n",
        "first=np.random.randint(1,100, size=7)\n",
        "print(first)\n",
        "second=np.random.randint(1,100, size=7)\n",
        "print(second)\n",
        "\n",
        "mult=np.dot(first,second)\n",
        "print(mult)"
      ],
      "metadata": {
        "colab": {
          "base_uri": "https://localhost:8080/"
        },
        "id": "oKWXiweAwacU",
        "outputId": "60249755-32c0-4841-fada-359f76de7040"
      },
      "execution_count": 14,
      "outputs": [
        {
          "output_type": "stream",
          "name": "stdout",
          "text": [
            "[67  4 26 42 85 77 41]\n",
            "[76 89 22 37 70 61 71]\n",
            "21132\n"
          ]
        }
      ]
    },
    {
      "cell_type": "code",
      "source": [
        "# 7.Створіть дві матриці розміром 2x2 та 2x3, заповніть їх випадковими цілими числами в діапазоні від 1 до 10 та перемножте їх між собою.\n",
        "\n",
        "first=np.random.randint(1,11, size=(2,2))\n",
        "print(first)\n",
        "second=np.random.randint(1,11, size=(2,3))\n",
        "print(second)\n",
        "\n",
        "mult=np.dot(first,second)\n",
        "print(mult)"
      ],
      "metadata": {
        "colab": {
          "base_uri": "https://localhost:8080/"
        },
        "id": "inhfqc94yo4p",
        "outputId": "b409002b-c66f-4d29-fce1-2b94b1706772"
      },
      "execution_count": 3,
      "outputs": [
        {
          "output_type": "stream",
          "name": "stdout",
          "text": [
            "[[4 6]\n",
            " [5 9]]\n",
            "[[8 2 1]\n",
            " [1 5 8]]\n",
            "[[38 38 52]\n",
            " [49 55 77]]\n"
          ]
        }
      ]
    },
    {
      "cell_type": "code",
      "source": [
        "# 8.Створіть матрицю розміром 3x3, заповніть її випадковими цілими числами в діапазоні від 1 до 10 та знайдіть її обернену матрицю.\n",
        "\n",
        "matrix=np.random.randint(1,11, size=(3,3))\n",
        "print(matrix)\n",
        "\n",
        "inverse_matrix = matrix.T\n",
        "print(inverse_matrix)"
      ],
      "metadata": {
        "colab": {
          "base_uri": "https://localhost:8080/"
        },
        "id": "DPbwakz5Sydg",
        "outputId": "d02880c1-7cac-407d-ade2-84856a990b28"
      },
      "execution_count": 5,
      "outputs": [
        {
          "output_type": "stream",
          "name": "stdout",
          "text": [
            "[[2 3 5]\n",
            " [4 5 3]\n",
            " [2 1 7]]\n",
            "[[2 4 2]\n",
            " [3 5 1]\n",
            " [5 3 7]]\n"
          ]
        }
      ]
    },
    {
      "cell_type": "code",
      "source": [
        "# 9.Створіть матрицю розміром 4x4, заповніть її випадковими дійсними числами в діапазоні від 0 до 1 та транспонуйте її.\n",
        "\n",
        "matrix=np.random.rand(4,4)\n",
        "print(matrix)\n",
        "\n",
        "inverse_matrix = matrix.T\n",
        "print (inverse_matrix)"
      ],
      "metadata": {
        "colab": {
          "base_uri": "https://localhost:8080/"
        },
        "id": "VOya60JRUe1f",
        "outputId": "b484a2af-d3ed-4819-e0f6-d92ca3b9e6bd"
      },
      "execution_count": 9,
      "outputs": [
        {
          "output_type": "stream",
          "name": "stdout",
          "text": [
            "[[0.0575529  0.05752287 0.48017307 0.16819217]\n",
            " [0.86574338 0.14010371 0.26880155 0.00625222]\n",
            " [0.10745374 0.34410396 0.0708489  0.9348767 ]\n",
            " [0.66990095 0.41891613 0.9875219  0.61422005]]\n",
            "[[0.0575529  0.86574338 0.10745374 0.66990095]\n",
            " [0.05752287 0.14010371 0.34410396 0.41891613]\n",
            " [0.48017307 0.26880155 0.0708489  0.9875219 ]\n",
            " [0.16819217 0.00625222 0.9348767  0.61422005]]\n"
          ]
        }
      ]
    },
    {
      "cell_type": "code",
      "source": [
        "# 10.Створіть матрицю розміром 3x4 та вектор розміром 4, заповніть їх випадковими цілими числами в діапазоні від 1 до 10 та перемножте матрицю на вектор.\n",
        "matrix=np.random.randint(1,11, size=(3,4))\n",
        "print(matrix)\n",
        "vector=np.random.randint(1,11, size=4)\n",
        "print(vector)\n",
        "\n",
        "mult=np.dot(matrix, vector)\n",
        "print (mult)"
      ],
      "metadata": {
        "colab": {
          "base_uri": "https://localhost:8080/"
        },
        "id": "ftYKGGuVV-cM",
        "outputId": "c5988296-d65b-4dc1-f17a-cca34f440fdc"
      },
      "execution_count": 10,
      "outputs": [
        {
          "output_type": "stream",
          "name": "stdout",
          "text": [
            "[[ 6  4  7  3]\n",
            " [ 8  3  4  4]\n",
            " [ 7 10  2  3]]\n",
            "[8 6 7 3]\n",
            "[130 122 139]\n"
          ]
        }
      ]
    },
    {
      "cell_type": "code",
      "source": [
        "# 11.Створіть матрицю розміром 2x3 та вектор розміром 3, заповніть їх випадковими дійсними числами в діапазоні від 0 до 1 та перемножте матрицю на вектор.\n",
        "matrix=np.random.rand(2,3)\n",
        "print(matrix)\n",
        "vector=np.random.rand(3)\n",
        "print(vector)\n",
        "\n",
        "mult=np.dot(matrix, vector)\n",
        "print (mult)"
      ],
      "metadata": {
        "colab": {
          "base_uri": "https://localhost:8080/"
        },
        "id": "job6MIY_XVCh",
        "outputId": "e70c8e7b-61fc-4da9-a201-3b92da029529"
      },
      "execution_count": 11,
      "outputs": [
        {
          "output_type": "stream",
          "name": "stdout",
          "text": [
            "[[0.39501026 0.16813133 0.08665249]\n",
            " [0.94980183 0.9237147  0.41909286]]\n",
            "[0.93373672 0.88653923 0.67041912]\n",
            "[0.57598409 1.98674204]\n"
          ]
        }
      ]
    },
    {
      "cell_type": "code",
      "source": [
        "# 12.Створіть дві матриці розміром 2x2, заповніть їх випадковими цілими числами в діапазоні від 1 до 10 та виконайте їхнє поелементне множення.\n",
        "matrix1=np.random.randint(1,11, size=(2,2))\n",
        "print(matrix1)\n",
        "matrix2=np.random.randint(1,11, size=(2,2))\n",
        "print(matrix2)\n",
        "\n",
        "mult=matrix1*matrix2\n",
        "print (mult)"
      ],
      "metadata": {
        "colab": {
          "base_uri": "https://localhost:8080/"
        },
        "id": "L7NYPP6YYKo7",
        "outputId": "38920175-7e76-4d3d-f601-700c8b2c679b"
      },
      "execution_count": 14,
      "outputs": [
        {
          "output_type": "stream",
          "name": "stdout",
          "text": [
            "[[3 4]\n",
            " [5 4]]\n",
            "[[ 5  6]\n",
            " [ 5 10]]\n",
            "[[15 24]\n",
            " [25 40]]\n"
          ]
        }
      ]
    },
    {
      "cell_type": "code",
      "source": [
        "# 13.Створіть дві матриці розміром 2x2, заповніть їх випадковими цілими числами в діапазоні від 1 до 10 та знайдіть їх добуток.\n",
        "matrix1=np.random.randint(1,11, size=(2,2))\n",
        "print(matrix1)\n",
        "matrix2=np.random.randint(1,11, size=(2,2))\n",
        "print(matrix2)\n",
        "\n",
        "mult=np.dot(matrix1,matrix2)\n",
        "print (mult)"
      ],
      "metadata": {
        "colab": {
          "base_uri": "https://localhost:8080/"
        },
        "id": "was6fxtJa_qo",
        "outputId": "fc77089e-7312-4ea3-ade9-ae4368092c9c"
      },
      "execution_count": 15,
      "outputs": [
        {
          "output_type": "stream",
          "name": "stdout",
          "text": [
            "[[10  3]\n",
            " [ 9  8]]\n",
            "[[8 1]\n",
            " [7 8]]\n",
            "[[101  34]\n",
            " [128  73]]\n"
          ]
        }
      ]
    },
    {
      "cell_type": "code",
      "source": [
        "# 14.Створіть матрицю розміром 5x5, заповніть її випадковими цілими числами в діапазоні від 1 до 100 та знайдіть суму елементів матриці.\n",
        "matrix=np.random.randint(1,101, size=(5,5))\n",
        "print(matrix)\n",
        "\n",
        "matrix_sum=np.sum(matrix)\n",
        "print(matrix_sum)"
      ],
      "metadata": {
        "colab": {
          "base_uri": "https://localhost:8080/"
        },
        "id": "8RtqloQubl3b",
        "outputId": "d336b124-c3d7-4129-dd8c-7a9571800deb"
      },
      "execution_count": 16,
      "outputs": [
        {
          "output_type": "stream",
          "name": "stdout",
          "text": [
            "[[ 9 64 71 80  8]\n",
            " [ 5 35 97 20 69]\n",
            " [25 42 18 79 90]\n",
            " [16 27  5 56 80]\n",
            " [95 11 62 78 93]]\n",
            "1235\n"
          ]
        }
      ]
    },
    {
      "cell_type": "code",
      "source": [
        "# 15.Створіть дві матриці розміром 4x4, заповніть їх випадковими цілими числами в діапазоні від 1 до 10 та знайдіть їхню різницю.\n",
        "matrix1=np.random.randint(1,11, size=(4,4))\n",
        "print(matrix1)\n",
        "matrix2=np.random.randint(1,11, size=(4,4))\n",
        "print(matrix2)\n",
        "\n",
        "sub = matrix1-matrix2\n",
        "print(sub)"
      ],
      "metadata": {
        "colab": {
          "base_uri": "https://localhost:8080/"
        },
        "id": "CPvR6Ok0cTpr",
        "outputId": "47e749cb-e148-4c63-930b-32dcd0864886"
      },
      "execution_count": 17,
      "outputs": [
        {
          "output_type": "stream",
          "name": "stdout",
          "text": [
            "[[ 2  6  9 10]\n",
            " [ 4 10  3  6]\n",
            " [ 8  8 10  2]\n",
            " [10 10  7  1]]\n",
            "[[ 7  2  2 10]\n",
            " [ 2  5  2 10]\n",
            " [ 3  4  4  5]\n",
            " [ 1  7  5 10]]\n",
            "[[-5  4  7  0]\n",
            " [ 2  5  1 -4]\n",
            " [ 5  4  6 -3]\n",
            " [ 9  3  2 -9]]\n"
          ]
        }
      ]
    },
    {
      "cell_type": "code",
      "source": [
        "# 16.Створіть матрицю розміром 3x3, заповніть її випадковими дійсними числами в діапазоні від 0 до 1 та знайдіть вектор-стовпчик, що містить суму елементів кожного рядка матриці.\n",
        "matrix=np.random.rand(3,3)\n",
        "print(matrix)\n",
        "\n",
        "row_sums = np.sum(matrix, axis=1, keepdims=True)\n",
        "print(row_sums)\n"
      ],
      "metadata": {
        "colab": {
          "base_uri": "https://localhost:8080/"
        },
        "id": "q9Kq3Hqkdicn",
        "outputId": "d9735b55-f7c7-466b-c4a5-480ddee9f99a"
      },
      "execution_count": 18,
      "outputs": [
        {
          "output_type": "stream",
          "name": "stdout",
          "text": [
            "[[0.64803343 0.85864182 0.4560368 ]\n",
            " [0.455537   0.60473058 0.51347568]\n",
            " [0.51198358 0.00366219 0.17381243]]\n",
            "[[1.96271205]\n",
            " [1.57374326]\n",
            " [0.6894582 ]]\n"
          ]
        }
      ]
    },
    {
      "cell_type": "code",
      "source": [
        "# 17. Створіть матрицю розміром 3x4 з довільними цілими числами і створінь матрицю з квадратами цих чисел.\n",
        "matrix=np.random.randint(1,11, size=(3,4))\n",
        "print (matrix)\n",
        "\n",
        "squared = np.square(matrix)\n",
        "print (squared)"
      ],
      "metadata": {
        "colab": {
          "base_uri": "https://localhost:8080/"
        },
        "id": "e-stnUxkfLHF",
        "outputId": "39981c01-e83c-47db-d445-53291da73d00"
      },
      "execution_count": 23,
      "outputs": [
        {
          "output_type": "stream",
          "name": "stdout",
          "text": [
            "[[ 5  6  5  3]\n",
            " [ 1 10  5  6]\n",
            " [ 5  5 10 10]]\n",
            "[[ 25  36  25   9]\n",
            " [  1 100  25  36]\n",
            " [ 25  25 100 100]]\n"
          ]
        }
      ]
    },
    {
      "cell_type": "code",
      "source": [
        "# 18. Створіть вектор розміром 4, заповніть його випадковими цілими числами в діапазоні від 1 до 50 та знайдіть вектор з квадратними коренями цих чисел.\n",
        "vector = np.random.randint(1,51, size=4)\n",
        "print(vector)\n",
        "\n",
        "srt = np.sqrt(vector)\n",
        "print (srt)"
      ],
      "metadata": {
        "colab": {
          "base_uri": "https://localhost:8080/"
        },
        "id": "CyiyjwPughWk",
        "outputId": "df18d7ae-944a-48df-a835-8b65a4688a39"
      },
      "execution_count": 24,
      "outputs": [
        {
          "output_type": "stream",
          "name": "stdout",
          "text": [
            "[ 1  1 38  8]\n",
            "[1.         1.         6.164414   2.82842712]\n"
          ]
        }
      ]
    }
  ]
}